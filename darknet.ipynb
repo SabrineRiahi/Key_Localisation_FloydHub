{
  "nbformat": 4,
  "nbformat_minor": 0,
  "metadata": {
    "colab": {
      "name": "darknet.ipynb",
      "provenance": [],
      "collapsed_sections": [],
      "toc_visible": true
    },
    "kernelspec": {
      "name": "python3",
      "display_name": "Python 3"
    },
    "accelerator": "GPU"
  },
  "cells": [
    {
      "cell_type": "markdown",
      "metadata": {
        "id": "w2PIRWdfwqQj",
        "colab_type": "text"
      },
      "source": [
        "# Part 1 : Installing Darknet"
      ]
    },
    {
      "cell_type": "markdown",
      "metadata": {
        "id": "LM1faN-DeFz6",
        "colab_type": "text"
      },
      "source": [
        "## Import Drive Files\n"
      ]
    },
    {
      "cell_type": "code",
      "metadata": {
        "id": "2Y9vYZC9_iTi",
        "colab_type": "code",
        "colab": {}
      },
      "source": [
        "%cd /content/\n",
        "### Move files to Drive -> Colab/content\n",
        "\n",
        "from pydrive.auth import GoogleAuth\n",
        "from pydrive.drive import GoogleDrive\n",
        "from google.colab import auth\n",
        "from oauth2client.client import GoogleCredentials\n",
        "\n",
        "## Google Authentification\n",
        "auth.authenticate_user()\n",
        "gauth = GoogleAuth()\n",
        "gauth.credentials = GoogleCredentials.get_application_default()\n",
        "drive = GoogleDrive(gauth)\n",
        "\n",
        "## Download file key.cfg\n",
        "## Lien : https://drive.google.com/open?id=1IzZZbZmsQuJLyTK7eaKYnVO94Yotv6q_\n",
        "downloaded = drive.CreateFile({'id': '1IzZZbZmsQuJLyTK7eaKYnVO94Yotv6q_'})\n",
        "downloaded.GetContentFile('key.cfg')\n",
        "\n",
        "## Download file darknet.zip\n",
        "## Lien : https://drive.google.com/open?id=1SHzfC5SoZb_fANtPGoQv80xTI2GEoQ55\n",
        "downloaded = drive.CreateFile({'id': '1SHzfC5SoZb_fANtPGoQv80xTI2GEoQ55'})\n",
        "downloaded.GetContentFile('darknet.zip')\n",
        "\n",
        "## Download file keras_yolov3.zip\n",
        "## Lien : https://drive.google.com/open?id=1CUVBT8SVsx04pDk3zbWe29kVtI0WpVCv\n",
        "downloaded = drive.CreateFile({'id': '1CUVBT8SVsx04pDk3zbWe29kVtI0WpVCv'})\n",
        "downloaded.GetContentFile('keras_yolov3.zip')\n",
        "\n",
        "## Download file key_last.weights\n",
        "## Lien : https://drive.google.com/open?id=1_VXc0GIkG3dtcs_ey6zffeWRXpGVZ3BH\n",
        "downloaded = drive.CreateFile({'id': '1_VXc0GIkG3dtcs_ey6zffeWRXpGVZ3BH'})\n",
        "downloaded.GetContentFile('key_last.weights')\n",
        "\n",
        "## Download file key_last.weights\n",
        "## Lien : https://drive.google.com/open?id=11_3Fo3bcurdaEdOosJXtp9ZO45vWtUNA\n",
        "downloaded = drive.CreateFile({'id': '11_3Fo3bcurdaEdOosJXtp9ZO45vWtUNA'})\n",
        "downloaded.GetContentFile('cudnn-10.0-linux-x64-v7.5.0.56.tgz')\n",
        "\n",
        "!unzip darknet.zip\n",
        "!unzip keras_yolov3.zip"
      ],
      "execution_count": 0,
      "outputs": []
    },
    {
      "cell_type": "markdown",
      "metadata": {
        "id": "J68L1vosfxP1",
        "colab_type": "text"
      },
      "source": [
        "## Install cuDNN"
      ]
    },
    {
      "cell_type": "code",
      "metadata": {
        "id": "-4o1F4_cf0h0",
        "colab_type": "code",
        "outputId": "02d79a02-98a3-4e0b-e2a0-cf79e31e50b6",
        "colab": {
          "base_uri": "https://localhost:8080/",
          "height": 329
        }
      },
      "source": [
        "# CUDA: Let's check that Nvidia CUDA is already pre-installed and which version is it. In some time from now maybe you \n",
        "!/usr/local/cuda/bin/nvcc --version\n",
        "\n",
        "# Got Cuda 10.0\n",
        "\n",
        "# Download zip file of cuDNN\n",
        "\n",
        "# We're unzipping the cuDNN files from your Drive folder directly to the VM CUDA folders\n",
        "!tar -xzvf /content/cudnn-10.0-linux-x64-v7.5.0.56.tgz -C /usr/local/\n",
        "!chmod a+r /usr/local/cuda/include/cudnn.h\n",
        "\n",
        "# Now we check the version we already installed.\n",
        "!cat /usr/local/cuda/include/cudnn.h | grep CUDNN_MAJOR -A 2"
      ],
      "execution_count": 45,
      "outputs": [
        {
          "output_type": "stream",
          "text": [
            "nvcc: NVIDIA (R) Cuda compiler driver\n",
            "Copyright (c) 2005-2018 NVIDIA Corporation\n",
            "Built on Sat_Aug_25_21:08:01_CDT_2018\n",
            "Cuda compilation tools, release 10.0, V10.0.130\n",
            "cuda/include/cudnn.h\n",
            "cuda/NVIDIA_SLA_cuDNN_Support.txt\n",
            "cuda/lib64/libcudnn.so\n",
            "cuda/lib64/libcudnn.so.7\n",
            "cuda/lib64/libcudnn.so.7.5.0\n",
            "cuda/lib64/libcudnn_static.a\n",
            "#define CUDNN_MAJOR 7\n",
            "#define CUDNN_MINOR 5\n",
            "#define CUDNN_PATCHLEVEL 0\n",
            "--\n",
            "#define CUDNN_VERSION (CUDNN_MAJOR * 1000 + CUDNN_MINOR * 100 + CUDNN_PATCHLEVEL)\n",
            "\n",
            "#include \"driver_types.h\"\n"
          ],
          "name": "stdout"
        }
      ]
    },
    {
      "cell_type": "markdown",
      "metadata": {
        "id": "OsN1VvQnh4p6",
        "colab_type": "text"
      },
      "source": [
        "## Install Darknet"
      ]
    },
    {
      "cell_type": "markdown",
      "metadata": {
        "id": "CmC-7pH_vLZU",
        "colab_type": "text"
      },
      "source": [
        "### Cloning and compiling Darknet"
      ]
    },
    {
      "cell_type": "code",
      "metadata": {
        "id": "kRtuFdIch7rt",
        "colab_type": "code",
        "colab": {}
      },
      "source": [
        "!git clone https://github.com/kriyeng/darknet/\n",
        "%cd darknet\n",
        "\n",
        "# Check the folder\n",
        "#!ls\n",
        "\n",
        "# I have a branch where I have done the changes commented above\n",
        "#!git checkout feature/google-colab\n",
        "\n",
        "#Compile Darknet\n",
        "!make\n",
        "\n",
        "#Copies the Darknet compiled version to Google drive\n",
        "!cp ./darknet /content/gdrive/My\\ Drive/Défis\\ et\\ Séminaires\\ en\\ Intelligence\\ Artificielle/Défi\\ 2/darknet/bin/darknet\n",
        "\n",
        "# Set execution permissions to Darknet\n",
        "!chmod +x ./darknet"
      ],
      "execution_count": 0,
      "outputs": []
    },
    {
      "cell_type": "markdown",
      "metadata": {
        "id": "b64ZReqUwI0d",
        "colab_type": "text"
      },
      "source": [
        "## Finish ! Test [Optionnal]"
      ]
    },
    {
      "cell_type": "code",
      "metadata": {
        "id": "rRcuX4c6wLlm",
        "colab_type": "code",
        "colab": {}
      },
      "source": [
        "def imShow(path):\n",
        "  import cv2\n",
        "  import matplotlib.pyplot as plt\n",
        "  %matplotlib inline\n",
        "\n",
        "  image = cv2.imread(path)\n",
        "  height, width = image.shape[:2]\n",
        "  resized_image = cv2.resize(image,(3*width, 3*height), interpolation = cv2.INTER_CUBIC)\n",
        "\n",
        "  fig = plt.gcf()\n",
        "  fig.set_size_inches(18, 10)\n",
        "  plt.axis(\"off\")\n",
        "  #plt.rcParams['figure.figsize'] = [10, 5]\n",
        "  plt.imshow(cv2.cvtColor(resized_image, cv2.COLOR_BGR2RGB))\n",
        "  plt.show()\n",
        "  \n",
        "  \n",
        "def upload():\n",
        "  from google.colab import files\n",
        "  uploaded = files.upload() \n",
        "  for name, data in uploaded.items():\n",
        "    with open(name, 'wb') as f:\n",
        "      f.write(data)\n",
        "      print ('saved file', name)\n",
        "\n",
        "def download(path):\n",
        "  from google.colab import files\n",
        "  files.download(path)\n",
        "\n",
        "# Get yolov3 weights\n",
        "!wget https://pjreddie.com/media/files/yolov3.weights\n",
        "\n",
        "# Execute darknet using YOLOv3 model with pre-trained weights to detect objects on 'person.jpg'\n",
        "!./darknet detect cfg/yolov3.cfg yolov3.weights data/person.jpg -dont-show\n",
        "\n",
        "# Show the result using the helper imgShow()\n",
        "imShow('predictions.jpg')"
      ],
      "execution_count": 0,
      "outputs": []
    },
    {
      "cell_type": "markdown",
      "metadata": {
        "id": "RBu6NG_wwk3x",
        "colab_type": "text"
      },
      "source": [
        "### All works ? We can continue."
      ]
    },
    {
      "cell_type": "markdown",
      "metadata": {
        "id": "aX8oyACfwoct",
        "colab_type": "text"
      },
      "source": [
        "# Part 2 : Training with Yolo"
      ]
    },
    {
      "cell_type": "markdown",
      "metadata": {
        "id": "VjEWccBDwybT",
        "colab_type": "text"
      },
      "source": [
        "## Loading data"
      ]
    },
    {
      "cell_type": "code",
      "metadata": {
        "id": "9BgMQsaG7bot",
        "colab_type": "code",
        "outputId": "ae5e9246-cf50-406e-ebff-2d93880fe89b",
        "colab": {
          "base_uri": "https://localhost:8080/",
          "height": 35
        }
      },
      "source": [
        "cd /content/\n",
        "!git clone https://github.com/belarbi2733/keras_yolov3\n",
        "cd /content/keras_yolov3\n",
        "!wget https://github.com/belarbi2733/keras_yolov3/releases/download/1/key_wb.zip\n",
        "!wget https://github.com/belarbi2733/keras_yolov3/releases/download/1/bckgrnd.zip\n",
        "!unzip bckgrnd.zip \n",
        "!unzip key_wb.zip\n",
        "!python keys_with_background.py --keys \"key_wb\" --background \"bckgrnd\" --output \"/content/darknet/img\"\n",
        "!mv img/annotations.csv .\n",
        "!wget https://pjreddie.com/media/files/yolov3.weights"
      ],
      "execution_count": 0,
      "outputs": [
        {
          "output_type": "stream",
          "text": [
            "/content\n"
          ],
          "name": "stdout"
        }
      ]
    },
    {
      "cell_type": "code",
      "metadata": {
        "id": "mJeMXgOo3Hm-",
        "colab_type": "code",
        "colab": {}
      },
      "source": [
        "## Optionnal\n",
        "## Show img files to put them in a txt file\n",
        "#%%bash\n",
        "#for file in '/content/darknet/img'/*\n",
        "#do\n",
        "#  echo $file\n",
        "#done"
      ],
      "execution_count": 0,
      "outputs": []
    },
    {
      "cell_type": "markdown",
      "metadata": {
        "id": "Wtt8wzwCxw2z",
        "colab_type": "text"
      },
      "source": [
        "## Training"
      ]
    },
    {
      "cell_type": "code",
      "metadata": {
        "id": "FoY3xCH9_LD0",
        "colab_type": "code",
        "colab": {}
      },
      "source": [
        "%cd /content/darknet\n",
        "# Download Darknet53.74\n",
        "!wget https://pjreddie.com/media/files/darknet53.conv.74"
      ],
      "execution_count": 0,
      "outputs": []
    },
    {
      "cell_type": "code",
      "metadata": {
        "id": "B0bEjH4MLUu0",
        "colab_type": "code",
        "colab": {}
      },
      "source": [
        "!mv img/annotations.csv .\n",
        "!mv img/annotations.txt .\n",
        "!mv img/annotation_python.py .\n",
        "!mv img/annotation_python_v2.py ."
      ],
      "execution_count": 0,
      "outputs": []
    },
    {
      "cell_type": "code",
      "metadata": {
        "id": "dCqA9fVjxzGE",
        "colab_type": "code",
        "colab": {
          "base_uri": "https://localhost:8080/",
          "height": 1000
        },
        "outputId": "7ac28023-3d67-4f73-b024-25fbd9c5e92b"
      },
      "source": [
        "# Training\n",
        "%cd /content/darknet\n",
        "!./darknet detector train cfg/key.data /content/key-5.cfg darknet53.conv.74 -dont_show"
      ],
      "execution_count": 53,
      "outputs": [
        {
          "output_type": "stream",
          "text": [
            "/content/darknet\n",
            "key-5\n",
            "layer     filters    size              input                output\n",
            "   0 conv     32  3 x 3 / 1   608 x 608 x   3   ->   608 x 608 x  32 0.639 BF\n",
            "   1 conv     64  3 x 3 / 2   608 x 608 x  32   ->   304 x 304 x  64 3.407 BF\n",
            "   2 conv     32  1 x 1 / 1   304 x 304 x  64   ->   304 x 304 x  32 0.379 BF\n",
            "   3 conv     64  3 x 3 / 1   304 x 304 x  32   ->   304 x 304 x  64 3.407 BF\n",
            "   4 Shortcut Layer: 1\n",
            "   5 conv    128  3 x 3 / 2   304 x 304 x  64   ->   152 x 152 x 128 3.407 BF\n",
            "   6 conv     64  1 x 1 / 1   152 x 152 x 128   ->   152 x 152 x  64 0.379 BF\n",
            "   7 conv    128  3 x 3 / 1   152 x 152 x  64   ->   152 x 152 x 128 3.407 BF\n",
            "   8 Shortcut Layer: 5\n",
            "   9 conv     64  1 x 1 / 1   152 x 152 x 128   ->   152 x 152 x  64 0.379 BF\n",
            "  10 conv    128  3 x 3 / 1   152 x 152 x  64   ->   152 x 152 x 128 3.407 BF\n",
            "  11 Shortcut Layer: 8\n",
            "  12 conv    256  3 x 3 / 2   152 x 152 x 128   ->    76 x  76 x 256 3.407 BF\n",
            "  13 conv    128  1 x 1 / 1    76 x  76 x 256   ->    76 x  76 x 128 0.379 BF\n",
            "  14 conv    256  3 x 3 / 1    76 x  76 x 128   ->    76 x  76 x 256 3.407 BF\n",
            "  15 Shortcut Layer: 12\n",
            "  16 conv    128  1 x 1 / 1    76 x  76 x 256   ->    76 x  76 x 128 0.379 BF\n",
            "  17 conv    256  3 x 3 / 1    76 x  76 x 128   ->    76 x  76 x 256 3.407 BF\n",
            "  18 Shortcut Layer: 15\n",
            "  19 conv    128  1 x 1 / 1    76 x  76 x 256   ->    76 x  76 x 128 0.379 BF\n",
            "  20 conv    256  3 x 3 / 1    76 x  76 x 128   ->    76 x  76 x 256 3.407 BF\n",
            "  21 Shortcut Layer: 18\n",
            "  22 conv    128  1 x 1 / 1    76 x  76 x 256   ->    76 x  76 x 128 0.379 BF\n",
            "  23 conv    256  3 x 3 / 1    76 x  76 x 128   ->    76 x  76 x 256 3.407 BF\n",
            "  24 Shortcut Layer: 21\n",
            "  25 conv    128  1 x 1 / 1    76 x  76 x 256   ->    76 x  76 x 128 0.379 BF\n",
            "  26 conv    256  3 x 3 / 1    76 x  76 x 128   ->    76 x  76 x 256 3.407 BF\n",
            "  27 Shortcut Layer: 24\n",
            "  28 conv    128  1 x 1 / 1    76 x  76 x 256   ->    76 x  76 x 128 0.379 BF\n",
            "  29 conv    256  3 x 3 / 1    76 x  76 x 128   ->    76 x  76 x 256 3.407 BF\n",
            "  30 Shortcut Layer: 27\n",
            "  31 conv    128  1 x 1 / 1    76 x  76 x 256   ->    76 x  76 x 128 0.379 BF\n",
            "  32 conv    256  3 x 3 / 1    76 x  76 x 128   ->    76 x  76 x 256 3.407 BF\n",
            "  33 Shortcut Layer: 30\n",
            "  34 conv    128  1 x 1 / 1    76 x  76 x 256   ->    76 x  76 x 128 0.379 BF\n",
            "  35 conv    256  3 x 3 / 1    76 x  76 x 128   ->    76 x  76 x 256 3.407 BF\n",
            "  36 Shortcut Layer: 33\n",
            "  37 conv    512  3 x 3 / 2    76 x  76 x 256   ->    38 x  38 x 512 3.407 BF\n",
            "  38 conv    256  1 x 1 / 1    38 x  38 x 512   ->    38 x  38 x 256 0.379 BF\n",
            "  39 conv    512  3 x 3 / 1    38 x  38 x 256   ->    38 x  38 x 512 3.407 BF\n",
            "  40 Shortcut Layer: 37\n",
            "  41 conv    256  1 x 1 / 1    38 x  38 x 512   ->    38 x  38 x 256 0.379 BF\n",
            "  42 conv    512  3 x 3 / 1    38 x  38 x 256   ->    38 x  38 x 512 3.407 BF\n",
            "  43 Shortcut Layer: 40\n",
            "  44 conv    256  1 x 1 / 1    38 x  38 x 512   ->    38 x  38 x 256 0.379 BF\n",
            "  45 conv    512  3 x 3 / 1    38 x  38 x 256   ->    38 x  38 x 512 3.407 BF\n",
            "  46 Shortcut Layer: 43\n",
            "  47 conv    256  1 x 1 / 1    38 x  38 x 512   ->    38 x  38 x 256 0.379 BF\n",
            "  48 conv    512  3 x 3 / 1    38 x  38 x 256   ->    38 x  38 x 512 3.407 BF\n",
            "  49 Shortcut Layer: 46\n",
            "  50 conv    256  1 x 1 / 1    38 x  38 x 512   ->    38 x  38 x 256 0.379 BF\n",
            "  51 conv    512  3 x 3 / 1    38 x  38 x 256   ->    38 x  38 x 512 3.407 BF\n",
            "  52 Shortcut Layer: 49\n",
            "  53 conv    256  1 x 1 / 1    38 x  38 x 512   ->    38 x  38 x 256 0.379 BF\n",
            "  54 conv    512  3 x 3 / 1    38 x  38 x 256   ->    38 x  38 x 512 3.407 BF\n",
            "  55 Shortcut Layer: 52\n",
            "  56 conv    256  1 x 1 / 1    38 x  38 x 512   ->    38 x  38 x 256 0.379 BF\n",
            "  57 conv    512  3 x 3 / 1    38 x  38 x 256   ->    38 x  38 x 512 3.407 BF\n",
            "  58 Shortcut Layer: 55\n",
            "  59 conv    256  1 x 1 / 1    38 x  38 x 512   ->    38 x  38 x 256 0.379 BF\n",
            "  60 conv    512  3 x 3 / 1    38 x  38 x 256   ->    38 x  38 x 512 3.407 BF\n",
            "  61 Shortcut Layer: 58\n",
            "  62 conv   1024  3 x 3 / 2    38 x  38 x 512   ->    19 x  19 x1024 3.407 BF\n",
            "  63 conv    512  1 x 1 / 1    19 x  19 x1024   ->    19 x  19 x 512 0.379 BF\n",
            "  64 conv   1024  3 x 3 / 1    19 x  19 x 512   ->    19 x  19 x1024 3.407 BF\n",
            "  65 Shortcut Layer: 62\n",
            "  66 conv    512  1 x 1 / 1    19 x  19 x1024   ->    19 x  19 x 512 0.379 BF\n",
            "  67 conv   1024  3 x 3 / 1    19 x  19 x 512   ->    19 x  19 x1024 3.407 BF\n",
            "  68 Shortcut Layer: 65\n",
            "  69 conv    512  1 x 1 / 1    19 x  19 x1024   ->    19 x  19 x 512 0.379 BF\n",
            "  70 conv   1024  3 x 3 / 1    19 x  19 x 512   ->    19 x  19 x1024 3.407 BF\n",
            "  71 Shortcut Layer: 68\n",
            "  72 conv    512  1 x 1 / 1    19 x  19 x1024   ->    19 x  19 x 512 0.379 BF\n",
            "  73 conv   1024  3 x 3 / 1    19 x  19 x 512   ->    19 x  19 x1024 3.407 BF\n",
            "  74 Shortcut Layer: 71\n",
            "  75 conv    512  1 x 1 / 1    19 x  19 x1024   ->    19 x  19 x 512 0.379 BF\n",
            "  76 conv   1024  3 x 3 / 1    19 x  19 x 512   ->    19 x  19 x1024 3.407 BF\n",
            "  77 conv    512  1 x 1 / 1    19 x  19 x1024   ->    19 x  19 x 512 0.379 BF\n",
            "  78 conv   1024  3 x 3 / 1    19 x  19 x 512   ->    19 x  19 x1024 3.407 BF\n",
            "  79 conv    512  1 x 1 / 1    19 x  19 x1024   ->    19 x  19 x 512 0.379 BF\n",
            "  80 conv   1024  3 x 3 / 1    19 x  19 x 512   ->    19 x  19 x1024 3.407 BF\n",
            "  81 conv     18  1 x 1 / 1    19 x  19 x1024   ->    19 x  19 x  18 0.013 BF\n",
            "  82 yolo\n",
            "  83 route  79\n",
            "  84 conv    256  1 x 1 / 1    19 x  19 x 512   ->    19 x  19 x 256 0.095 BF\n",
            "  85 upsample            2x    19 x  19 x 256   ->    38 x  38 x 256\n",
            "  86 route  85 61\n",
            "  87 conv    256  1 x 1 / 1    38 x  38 x 768   ->    38 x  38 x 256 0.568 BF\n",
            "  88 ^C\n"
          ],
          "name": "stdout"
        }
      ]
    },
    {
      "cell_type": "code",
      "metadata": {
        "id": "esB-I-7ZB4of",
        "colab_type": "code",
        "colab": {}
      },
      "source": [
        "# Testing\n",
        "\n",
        "def imShow(path):\n",
        "  import cv2\n",
        "  import matplotlib.pyplot as plt\n",
        "  %matplotlib inline\n",
        "\n",
        "  image = cv2.imread(path)\n",
        "  height, width = image.shape[:2]\n",
        "  resized_image = cv2.resize(image,(3*width, 3*height), interpolation = cv2.INTER_CUBIC)\n",
        "\n",
        "  fig = plt.gcf()\n",
        "  fig.set_size_inches(18, 10)\n",
        "  plt.axis(\"off\")\n",
        "  #plt.rcParams['figure.figsize'] = [10, 5]\n",
        "  plt.imshow(cv2.cvtColor(resized_image, cv2.COLOR_BGR2RGB))\n",
        "  plt.show()\n",
        "  \n",
        "  \n",
        "def upload():\n",
        "  from google.colab import files\n",
        "  uploaded = files.upload() \n",
        "  for name, data in uploaded.items():\n",
        "    with open(name, 'wb') as f:\n",
        "      f.write(data)\n",
        "      print ('saved file', name)\n",
        "def download(path):\n",
        "  from google.colab import files\n",
        "  files.download(path)\n",
        "  \n",
        "%cd /content/darknet\n",
        "!./darknet detector test cfg/key_voc.data /content/key.cfg /content/darknet/backup/key_last.weights /content/darknet/img/gen_0041.jpg #-thresh 0.49\n",
        "# Show the result using the helper imgShow()\n",
        "imShow('predictions.jpg')"
      ],
      "execution_count": 0,
      "outputs": []
    },
    {
      "cell_type": "code",
      "metadata": {
        "id": "ZwUOr17qstBg",
        "colab_type": "code",
        "colab": {}
      },
      "source": [
        "# Precision\n",
        "./darknet detector map data/key.data /content/key.cfg backup/key_last.weights"
      ],
      "execution_count": 0,
      "outputs": []
    }
  ]
}