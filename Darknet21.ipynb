{
  "nbformat": 4,
  "nbformat_minor": 0,
  "metadata": {
    "colab": {
      "name": "Darknet21.ipynb",
      "provenance": [],
      "collapsed_sections": [],
      "toc_visible": true,
      "include_colab_link": true
    },
    "kernelspec": {
      "name": "python3",
      "display_name": "Python 3"
    },
    "accelerator": "GPU"
  },
  "cells": [
    {
      "cell_type": "markdown",
      "metadata": {
        "id": "view-in-github",
        "colab_type": "text"
      },
      "source": [
        "<a href=\"https://colab.research.google.com/github/SabrineRiahi/Key_Localisation_FloydHub/blob/master/Darknet21.ipynb\" target=\"_parent\"><img src=\"https://colab.research.google.com/assets/colab-badge.svg\" alt=\"Open In Colab\"/></a>"
      ]
    },
    {
      "cell_type": "markdown",
      "metadata": {
        "id": "LxMGxKRGe_ti",
        "colab_type": "text"
      },
      "source": [
        "# Installing Darknet"
      ]
    },
    {
      "cell_type": "code",
      "metadata": {
        "id": "erhu_ZKxfDUv",
        "colab_type": "code",
        "colab": {}
      },
      "source": [
        "!git clone https://github.com/pjreddie/darknet\n",
        "%cd ./darknet\n",
        "!make"
      ],
      "execution_count": 0,
      "outputs": []
    },
    {
      "cell_type": "markdown",
      "metadata": {
        "id": "jhiK1mj0ddsf",
        "colab_type": "text"
      },
      "source": [
        "# Training yolo on VOC\n"
      ]
    },
    {
      "cell_type": "markdown",
      "metadata": {
        "id": "BA6NifltdieX",
        "colab_type": "text"
      },
      "source": [
        "## Downloading datas"
      ]
    },
    {
      "cell_type": "code",
      "metadata": {
        "id": "sUhsiSQVdHXB",
        "colab_type": "code",
        "colab": {}
      },
      "source": [
        "!wget https://pjreddie.com/media/files/VOCtrainval_11-May-2012.tar\n",
        "!wget https://pjreddie.com/media/files/VOCtrainval_06-Nov-2007.tar\n",
        "!wget https://pjreddie.com/media/files/VOCtest_06-Nov-2007.tar\n",
        "!tar xf VOCtrainval_11-May-2012.tar\n",
        "!tar xf VOCtrainval_06-Nov-2007.tar\n",
        "!tar xf VOCtest_06-Nov-2007.tar"
      ],
      "execution_count": 0,
      "outputs": []
    },
    {
      "cell_type": "code",
      "metadata": {
        "id": "bqCQp7Nhd5ue",
        "colab_type": "code",
        "colab": {
          "base_uri": "https://localhost:8080/",
          "height": 237
        },
        "outputId": "e7178648-17d4-46c2-df16-574f8ede0534"
      },
      "source": [
        "# Generate labels\n",
        "%cd /content/darknet/data\n",
        "!wget https://pjreddie.com/media/files/voc_label.py\n",
        "!python voc_label.py"
      ],
      "execution_count": 11,
      "outputs": [
        {
          "output_type": "stream",
          "text": [
            "/content/darknet/data\n",
            "--2019-11-09 12:24:17--  https://pjreddie.com/media/files/voc_label.py\n",
            "Resolving pjreddie.com (pjreddie.com)... 128.208.4.108\n",
            "Connecting to pjreddie.com (pjreddie.com)|128.208.4.108|:443... connected.\n",
            "HTTP request sent, awaiting response... 200 OK\n",
            "Length: 2042 (2.0K) [application/octet-stream]\n",
            "Saving to: ‘voc_label.py’\n",
            "\n",
            "voc_label.py        100%[===================>]   1.99K  --.-KB/s    in 0s      \n",
            "\n",
            "2019-11-09 12:24:18 (459 MB/s) - ‘voc_label.py’ saved [2042/2042]\n",
            "\n"
          ],
          "name": "stdout"
        }
      ]
    },
    {
      "cell_type": "markdown",
      "metadata": {
        "id": "PaHc4IG1a75P",
        "colab_type": "text"
      },
      "source": [
        "## Adding key's data "
      ]
    },
    {
      "cell_type": "code",
      "metadata": {
        "id": "yVnx97-qnIGk",
        "colab_type": "code",
        "colab": {}
      },
      "source": [
        "# Adding key's images\n",
        "%cd /content\n",
        "!git clone https://github.com/belarbi2733/keras_yolov3\n",
        "\n",
        "%cd /content/keras_yolov3\n",
        "!wget https://github.com/belarbi2733/keras_yolov3/releases/download/1/key_wb.zip\n",
        "!wget https://github.com/belarbi2733/keras_yolov3/releases/download/1/bckgrnd.zip\n",
        "!unzip bckgrnd.zip\n",
        "!unzip key_wb.zip\n",
        "!python keys_with_background.py --keys \"key_wb\" --background \"bckgrnd\" --output \"/content/darknet/data/VOCdevkit/VOC2007/JPEGImages\""
      ],
      "execution_count": 0,
      "outputs": []
    },
    {
      "cell_type": "code",
      "metadata": {
        "id": "e06ZD0cEJeOh",
        "colab_type": "code",
        "colab": {}
      },
      "source": [
        "# Rename annotations.csv file into txt file\n",
        "%cd /content/darknet/data/VOCdevkit/VOC2007/JPEGImages\n",
        "pre, ext = os.path.splitext(annotations.csv)\n",
        "os.rename(annotations.csv, pre + txt)\n",
        "!mv annotations.txt /content/darknet/data/VOCdevkit/VOC2007/labels"
      ],
      "execution_count": 0,
      "outputs": []
    },
    {
      "cell_type": "code",
      "metadata": {
        "id": "gHeW14ioNIF6",
        "colab_type": "code",
        "colab": {}
      },
      "source": [
        "# Generate 1 file \"annotation.txt\" for each image in the right directory\n",
        "%cd /content/darknet/data/VOCdevkit/VOC2007/labels\n",
        "!python annotation_pythonv3.py"
      ],
      "execution_count": 0,
      "outputs": []
    },
    {
      "cell_type": "code",
      "metadata": {
        "id": "VUi9eCVjNlAX",
        "colab_type": "code",
        "colab": {}
      },
      "source": [
        "# Generate annotation_train.txt and annotation_test.txt == Directories of file img of keys\n",
        "%cd /content/darknet/data/VOCdevkit/VOC2007/labels\n",
        "!python annotation_train_test.py"
      ],
      "execution_count": 0,
      "outputs": []
    },
    {
      "cell_type": "code",
      "metadata": {
        "id": "YEYL_l6FNZy3",
        "colab_type": "code",
        "colab": {}
      },
      "source": [
        "# Concatenate annotation_train.txt + 2007_train.txt = train.txt\n",
        "filenames = ['annotation_train.txt', '2007_train.txt']\n",
        "with open('/content/darknet/data/train.txt', 'w') as outfile : # Path to output file\n",
        "    for fname in filenames :\n",
        "        with open(fname) as infile :\n",
        "            for line in infile :\n",
        "                outfile.write(line)\n",
        "# Concatenate annotation_test.txt + 2007_test.txt = test.txt\n",
        "filenames = ['annotation_test.txt', '2007_test.txt']\n",
        "with open('/content/darknet/data/test.txt', 'w') as outfile : # Path to output file\n",
        "    for fname in filenames :\n",
        "        with open(fname) as infile :\n",
        "            for line in infile :\n",
        "                outfile.write(line)\n",
        "!mv train.txt /content/darknet/data\n",
        "!mv test.txt /content/darknet/data"
      ],
      "execution_count": 0,
      "outputs": []
    },
    {
      "cell_type": "markdown",
      "metadata": {
        "id": "Lu7GD917jfDa",
        "colab_type": "text"
      },
      "source": [
        "## Modifying files .voc .names .cfg"
      ]
    },
    {
      "cell_type": "code",
      "metadata": {
        "id": "bJOwUyGXjlFM",
        "colab_type": "code",
        "colab": {}
      },
      "source": [
        "# modifier .cfg : nb classes, nb filtes\n",
        "# modifier .names : 81 = clés\n",
        "# modifier .voc : paths\n",
        "# modifier .txt : path of img data test/train"
      ],
      "execution_count": 0,
      "outputs": []
    },
    {
      "cell_type": "markdown",
      "metadata": {
        "id": "3-qEwsQaeh7z",
        "colab_type": "text"
      },
      "source": [
        "## Downloading pretrained convolutionnal  weights"
      ]
    },
    {
      "cell_type": "code",
      "metadata": {
        "id": "vAqs969XemRe",
        "colab_type": "code",
        "colab": {}
      },
      "source": [
        "%cd darknet\n",
        "!wget https://pjreddie.com/media/files/darknet53.conv.74"
      ],
      "execution_count": 0,
      "outputs": []
    },
    {
      "cell_type": "markdown",
      "metadata": {
        "id": "wlt6GA9zeljY",
        "colab_type": "text"
      },
      "source": [
        "## Training model"
      ]
    },
    {
      "cell_type": "code",
      "metadata": {
        "id": "AKlKff5Le1pG",
        "colab_type": "code",
        "colab": {}
      },
      "source": [
        "!./darknet convert.py detector train cfg/voc.data cfg/yolov3-voc.cfg darknet53.conv.74"
      ],
      "execution_count": 0,
      "outputs": []
    },
    {
      "cell_type": "markdown",
      "metadata": {
        "id": "w0pckxncjKHF",
        "colab_type": "text"
      },
      "source": [
        "## Testing model"
      ]
    },
    {
      "cell_type": "code",
      "metadata": {
        "id": "m6OhER8Ig-SF",
        "colab_type": "code",
        "colab": {}
      },
      "source": [
        "def imShow(path):\n",
        "  import cv2\n",
        "  import matplotlib.pyplot as plt\n",
        "  %matplotlib inline\n",
        "\n",
        "  image = cv2.imread(path)\n",
        "  height, width = image.shape[:2]\n",
        "  resized_image = cv2.resize(image,(3*width, 3*height), interpolation = cv2.INTER_CUBIC)\n",
        "\n",
        "  fig = plt.gcf()\n",
        "  fig.set_size_inches(18, 10)\n",
        "  plt.axis(\"off\")\n",
        "  #plt.rcParams['figure.figsize'] = [10, 5]\n",
        "  plt.imshow(cv2.cvtColor(resized_image, cv2.COLOR_BGR2RGB))\n",
        "  plt.show()\n",
        "\n",
        "%cd /darknet\n",
        "#!wget https://pjreddie.com/media/files/yolov3.weights\n",
        "!./darknet detect cfg/yolov3.cfg yolov3.weights data/kite.jpg\n",
        "imShow('predictions.jpg')"
      ],
      "execution_count": 0,
      "outputs": []
    }
  ]
}