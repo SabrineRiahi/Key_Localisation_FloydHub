{
  "nbformat": 4,
  "nbformat_minor": 0,
  "metadata": {
    "colab": {
      "name": "Darknet21.ipynb",
      "provenance": [],
      "collapsed_sections": [],
      "toc_visible": true,
      "include_colab_link": true
    },
    "kernelspec": {
      "name": "python3",
      "display_name": "Python 3"
    },
    "accelerator": "GPU"
  },
  "cells": [
    {
      "cell_type": "markdown",
      "metadata": {
        "id": "view-in-github",
        "colab_type": "text"
      },
      "source": [
        "<a href=\"https://colab.research.google.com/github/SabrineRiahi/Key_Localisation_FloydHub/blob/master/Darknet21.ipynb\" target=\"_parent\"><img src=\"https://colab.research.google.com/assets/colab-badge.svg\" alt=\"Open In Colab\"/></a>"
      ]
    },
    {
      "cell_type": "markdown",
      "metadata": {
        "id": "LxMGxKRGe_ti",
        "colab_type": "text"
      },
      "source": [
        "# Installing Darknet"
      ]
    },
    {
      "cell_type": "code",
      "metadata": {
        "id": "erhu_ZKxfDUv",
        "colab_type": "code",
        "colab": {}
      },
      "source": [
        "!git clone https://github.com/pjreddie/darknet\n",
        "%cd ./darknet\n",
        "!make"
      ],
      "execution_count": 0,
      "outputs": []
    },
    {
      "cell_type": "markdown",
      "metadata": {
        "id": "jhiK1mj0ddsf",
        "colab_type": "text"
      },
      "source": [
        "# Training yolo on VOC\n"
      ]
    },
    {
      "cell_type": "markdown",
      "metadata": {
        "id": "BA6NifltdieX",
        "colab_type": "text"
      },
      "source": [
        "## Downloading datas"
      ]
    },
    {
      "cell_type": "code",
      "metadata": {
        "id": "sUhsiSQVdHXB",
        "colab_type": "code",
        "colab": {}
      },
      "source": [
        "%cd /content/darknet/data\n",
        "!wget https://pjreddie.com/media/files/VOCtrainval_11-May-2012.tar\n",
        "!wget https://pjreddie.com/media/files/VOCtrainval_06-Nov-2007.tar\n",
        "!wget https://pjreddie.com/media/files/VOCtest_06-Nov-2007.tar\n",
        "!tar xf VOCtrainval_11-May-2012.tar\n",
        "!tar xf VOCtrainval_06-Nov-2007.tar\n",
        "!tar xf VOCtest_06-Nov-2007.tar"
      ],
      "execution_count": 0,
      "outputs": []
    },
    {
      "cell_type": "code",
      "metadata": {
        "id": "bqCQp7Nhd5ue",
        "colab_type": "code",
        "colab": {}
      },
      "source": [
        "# Generate labels\n",
        "%cd /content/darknet/data\n",
        "!wget https://pjreddie.com/media/files/voc_label.py\n",
        "!python voc_label.py"
      ],
      "execution_count": 0,
      "outputs": []
    },
    {
      "cell_type": "markdown",
      "metadata": {
        "id": "PaHc4IG1a75P",
        "colab_type": "text"
      },
      "source": [
        "## Adding key's data "
      ]
    },
    {
      "cell_type": "code",
      "metadata": {
        "id": "yVnx97-qnIGk",
        "colab_type": "code",
        "colab": {}
      },
      "source": [
        "# Adding key's images\n",
        "%cd /content\n",
        "!git clone https://github.com/belarbi2733/keras_yolov3\n",
        "\n",
        "%cd /content/keras_yolov3\n",
        "!wget https://github.com/belarbi2733/keras_yolov3/releases/download/1/key_wb.zip\n",
        "!wget https://github.com/belarbi2733/keras_yolov3/releases/download/1/bckgrnd.zip\n",
        "!unzip bckgrnd.zip\n",
        "!unzip key_wb.zip\n",
        "!python keys_with_background.py --keys \"key_wb\" --background \"bckgrnd\" --output \"/content/darknet/data/VOCdevkit/VOC2007/img\""
      ],
      "execution_count": 0,
      "outputs": []
    },
    {
      "cell_type": "code",
      "metadata": {
        "id": "e06ZD0cEJeOh",
        "colab_type": "code",
        "outputId": "30f073e5-3d9c-429a-9e30-be431ca7b36d",
        "colab": {
          "base_uri": "https://localhost:8080/",
          "height": 35
        }
      },
      "source": [
        "# Rename annotations.csv file into txt file\n",
        "%cd /content/darknet/data/VOCdevkit/VOC2007/img\n",
        "import os\n",
        "pre, ext = os.path.splitext(\"/content/darknet/data/VOCdevkit/VOC2007/img/annotations.csv\")\n",
        "os.rename(\"annotations.csv\", pre + \".txt\")"
      ],
      "execution_count": 0,
      "outputs": [
        {
          "output_type": "stream",
          "text": [
            "/content/darknet/data/VOCdevkit/VOC2007/img\n"
          ],
          "name": "stdout"
        }
      ]
    },
    {
      "cell_type": "code",
      "metadata": {
        "id": "gHeW14ioNIF6",
        "colab_type": "code",
        "colab": {}
      },
      "source": [
        "# Generate 1 file \"annotation.txt\" for each image in the right directory\n",
        "%cd /content/darknet/data/VOCdevkit/VOC2007/img\n",
        "!wget https://raw.githubusercontent.com/SabrineRiahi/Key_Localisation_FloydHub/master/annotation_pythonv3.py\n",
        "!python annotation_pythonv3.py"
      ],
      "execution_count": 0,
      "outputs": []
    },
    {
      "cell_type": "code",
      "metadata": {
        "id": "VUi9eCVjNlAX",
        "colab_type": "code",
        "colab": {}
      },
      "source": [
        "# Generate annotation_train.txt and annotation_test.txt == Directories of file img of keys\n",
        "%cd /content/darknet/data/VOCdevkit/VOC2007/img\n",
        "!wget https://raw.githubusercontent.com/SabrineRiahi/Key_Localisation_FloydHub/master/annotation_train_test.py\n",
        "!python annotation_train_test.py"
      ],
      "execution_count": 0,
      "outputs": []
    },
    {
      "cell_type": "code",
      "metadata": {
        "id": "YEYL_l6FNZy3",
        "colab_type": "code",
        "colab": {}
      },
      "source": [
        "# Concatenate annotation_train.txt + 2007_train.txt = train.txt\n",
        "filenames = ['/content/darknet/data/VOCdevkit/VOC2007/img/annotation_train.txt', '/content/darknet/data/2007_train.txt']\n",
        "with open('/content/darknet/data/train.txt', 'w') as outfile : # Path to output file\n",
        "    for fname in filenames :\n",
        "        with open(fname) as infile :\n",
        "            for line in infile :\n",
        "                outfile.write(line)\n",
        "# Concatenate annotation_test.txt + 2007_test.txt = test.txt\n",
        "filenames = ['/content/darknet/data/VOCdevkit/VOC2007/img/annotation_test.txt', '/content/darknet/data/2007_test.txt']\n",
        "with open('/content/darknet/data/test.txt', 'w') as outfile : # Path to output file\n",
        "    for fname in filenames :\n",
        "        with open(fname) as infile :\n",
        "            for line in infile :\n",
        "                outfile.write(line)\n",
        "!mv /content/darknet/data/VOCdevkit/VOC2007/img/train.txt /content/darknet/data\n",
        "!mv /content/darknet/data/VOCdevkit/VOC2007/img/test.txt /content/darknet/data"
      ],
      "execution_count": 0,
      "outputs": []
    },
    {
      "cell_type": "markdown",
      "metadata": {
        "id": "Lu7GD917jfDa",
        "colab_type": "text"
      },
      "source": [
        "## REM : Modify files .voc .names .cfg"
      ]
    },
    {
      "cell_type": "code",
      "metadata": {
        "id": "bJOwUyGXjlFM",
        "colab_type": "code",
        "colab": {}
      },
      "source": [
        "# modifier .cfg : nb classes, nb filtes\n",
        "# modifier .names : 81 = clés\n",
        "# modifier .voc : paths\n",
        "# modifier .txt : path of img data test/train"
      ],
      "execution_count": 0,
      "outputs": []
    },
    {
      "cell_type": "markdown",
      "metadata": {
        "id": "3-qEwsQaeh7z",
        "colab_type": "text"
      },
      "source": [
        "## Downloading pretrained convolutionnal  weights"
      ]
    },
    {
      "cell_type": "code",
      "metadata": {
        "id": "vAqs969XemRe",
        "colab_type": "code",
        "colab": {}
      },
      "source": [
        "%cd /content/darknet\n",
        "!wget https://pjreddie.com/media/files/darknet53.conv.74"
      ],
      "execution_count": 0,
      "outputs": []
    },
    {
      "cell_type": "markdown",
      "metadata": {
        "id": "wlt6GA9zeljY",
        "colab_type": "text"
      },
      "source": [
        "## Training model"
      ]
    },
    {
      "cell_type": "code",
      "metadata": {
        "id": "lIP5awa6h2c1",
        "colab_type": "code",
        "colab": {}
      },
      "source": [
        "# voc.names -> data\n",
        "%cd /content/darknet/data\n",
        "!rm voc.names\n",
        "!wget https://raw.githubusercontent.com/SabrineRiahi/Key_Localisation_FloydHub/master/voc.names\n",
        "# voc.data, yolov3.cfg -> cfg\n",
        "%cd /content/darknet/cfg\n",
        "!rm voc.data\n",
        "!rm yolov3.cfg\n",
        "!wget https://raw.githubusercontent.com/SabrineRiahi/Key_Localisation_FloydHub/master/voc.data\n",
        "!wget https://raw.githubusercontent.com/SabrineRiahi/Key_Localisation_FloydHub/master/yolov3.cfg\n",
        "# Makefile\n",
        "%cd /content/darknet\n",
        "!rm Makefile\n",
        "!wget https://raw.githubusercontent.com/SabrineRiahi/Key_Localisation_FloydHub/master/Makefile"
      ],
      "execution_count": 0,
      "outputs": []
    },
    {
      "cell_type": "code",
      "metadata": {
        "id": "AKlKff5Le1pG",
        "colab_type": "code",
        "colab": {}
      },
      "source": [
        "%cd /content/darknet\n",
        "!./darknet detector train cfg/voc.data cfg/yolov3.cfg darknet53.conv.74 "
      ],
      "execution_count": 0,
      "outputs": []
    },
    {
      "cell_type": "markdown",
      "metadata": {
        "id": "w0pckxncjKHF",
        "colab_type": "text"
      },
      "source": [
        "## Testing model"
      ]
    },
    {
      "cell_type": "code",
      "metadata": {
        "id": "wMjN5NclcL2p",
        "colab_type": "code",
        "outputId": "a0cfa762-1cb3-4237-a50f-d13c0d7ab26b",
        "colab": {
          "base_uri": "https://localhost:8080/",
          "height": 35
        }
      },
      "source": [
        "from pydrive.auth import GoogleAuth\n",
        "from pydrive.drive import GoogleDrive\n",
        "from google.colab import auth\n",
        "from oauth2client.client import GoogleCredentials\n",
        "\n",
        "%cd /content\n",
        "## Google Authentification\n",
        "auth.authenticate_user()\n",
        "gauth = GoogleAuth()\n",
        "gauth.credentials = GoogleCredentials.get_application_default()\n",
        "drive = GoogleDrive(gauth)\n",
        "\n",
        "## Download weights file\n",
        "## Lien : https://drive.google.com/open?id=1W1BfADa1zQo9Ydzi3-686NitLceU_qgI\n",
        "downloaded = drive.CreateFile({'id': '1W1BfADa1zQo9Ydzi3-686NitLceU_qgI'})\n",
        "downloaded.GetContentFile('yolov3.backup')\n",
        "\n",
        "## Download weights file\n",
        "## Lien : https://drive.google.com/open?id=1CUDmf7NLvNSpeDS1E4KWLNW1CV7L8wWe\n",
        "downloaded = drive.CreateFile({'id': '1CUDmf7NLvNSpeDS1E4KWLNW1CV7L8wWe'})\n",
        "downloaded.GetContentFile('yolov3_900.weights')"
      ],
      "execution_count": 0,
      "outputs": [
        {
          "output_type": "stream",
          "text": [
            "/content\n"
          ],
          "name": "stdout"
        }
      ]
    },
    {
      "cell_type": "code",
      "metadata": {
        "id": "m6OhER8Ig-SF",
        "colab_type": "code",
        "colab": {}
      },
      "source": [
        "def imShow(path):\n",
        "  import cv2\n",
        "  import matplotlib.pyplot as plt\n",
        "  %matplotlib inline\n",
        "\n",
        "  image = cv2.imread(path)\n",
        "  height, width = image.shape[:2]\n",
        "  resized_image = cv2.resize(image,(3*width, 3*height), interpolation = cv2.INTER_CUBIC)\n",
        "\n",
        "  fig = plt.gcf()\n",
        "  fig.set_size_inches(18, 10)\n",
        "  plt.axis(\"off\")\n",
        "  #plt.rcParams['figure.figsize'] = [10, 5]\n",
        "  plt.imshow(cv2.cvtColor(resized_image, cv2.COLOR_BGR2RGB))\n",
        "  plt.show()\n",
        "\n",
        "def upload():\n",
        "  from google.colab import files\n",
        "  uploaded = files.upload() \n",
        "  for name, data in uploaded.items():\n",
        "    with open(name, 'wb') as f:\n",
        "      f.write(data)\n",
        "      print ('saved file', name)\n",
        "\n",
        "def download(path):\n",
        "  from google.colab import files\n",
        "  files.download(path)\n",
        "\n",
        "%cd /content\n",
        "!wget https://raw.githubusercontent.com/SabrineRiahi/Key_Localisation_FloydHub/master/yolov3-test.cfg\n",
        "\n",
        "%cd /content/darknet\n",
        "!./darknet detector test cfg/voc.data /content/yolov3-test.cfg /content/yolov3.backup /content/index.jpg -thresh 0.01\n",
        "imShow('predictions.jpg')"
      ],
      "execution_count": 0,
      "outputs": []
    },
    {
      "cell_type": "code",
      "metadata": {
        "id": "_Ce2yyEiJB4s",
        "colab_type": "code",
        "colab": {}
      },
      "source": [
        "### Optionnal\n",
        "## Create result.txt file with prediction of some images\n",
        "\n",
        "## Before : create new images \n",
        "#!./darknet detector test cfg/voc.data /content/yolov3-test.cfg /content/yolov3_900.weights < /content/darknet/data/VOCdevkit/VOC2007/img/annotation_test.txt > /content/result.txt\n",
        "#filenames = ['/content/darknet/data/train.txt', '/content/darknet/data/test.txt']\n",
        "#with open('/content/darknet/data/allimages.txt', 'w') as outfile : # Path to output file\n",
        "#    for fname in filenames :\n",
        "#        with open(fname) as infile :\n",
        "#            for line in infile :\n",
        "#                outfile.write(line)"
      ],
      "execution_count": 0,
      "outputs": []
    },
    {
      "cell_type": "markdown",
      "metadata": {
        "id": "TRo5dgKRUQL3",
        "colab_type": "text"
      },
      "source": [
        "## Real time detection on a Video"
      ]
    },
    {
      "cell_type": "code",
      "metadata": {
        "id": "Dnq1vCnMUPxI",
        "colab_type": "code",
        "colab": {}
      },
      "source": [
        "!./darknet detector demo cfg/voc.data /content/yolov3-test.cfg /content/yolov3_900.weights <video-file>"
      ],
      "execution_count": 0,
      "outputs": []
    }
  ]
}